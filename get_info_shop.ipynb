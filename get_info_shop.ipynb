{
 "cells": [
  {
   "cell_type": "code",
   "execution_count": 14,
   "metadata": {},
   "outputs": [],
   "source": [
    "import pandas as pd\n",
    "\n",
    "# -- Selenium --\n",
    "from selenium import webdriver\n",
    "from selenium.webdriver.chrome.options import Options\n",
    "import time\n",
    "from time import sleep\n",
    "from selenium.webdriver.common.by import By\n",
    "\n",
    "\n",
    "# -- API --\n",
    "import re\n",
    "import json\n",
    "import requests\n",
    "from tqdm import tqdm\n",
    "\n",
    "# Get today\n",
    "from datetime import date\n",
    "\n",
    "# Check time\n",
    "from tqdm import tqdm"
   ]
  },
  {
   "cell_type": "code",
   "execution_count": 15,
   "metadata": {},
   "outputs": [],
   "source": [
    "data = pd.read_csv('C:/Users/Admin/OneDrive_Quan/Máy tính/crawl_web_RA/20220822_shopee/shopee_20220829/link_shop_shopee_recrawl.csv')"
   ]
  },
  {
   "cell_type": "code",
   "execution_count": 16,
   "metadata": {},
   "outputs": [
    {
     "name": "stdout",
     "output_type": "stream",
     "text": [
      "2694\n"
     ]
    }
   ],
   "source": [
    "shop_links = data.shop_url\n",
    "\n",
    "print(len(shop_links))"
   ]
  },
  {
   "cell_type": "code",
   "execution_count": 19,
   "metadata": {},
   "outputs": [],
   "source": [
    "def startCrawl(shop_links, list_product):\n",
    "    driver = webdriver.Chrome(executable_path=r\"C:/Users/Admin/OneDrive_Quan/Máy tính/crawl_web_RA/chromedriver/chromedriver\")\n",
    "\n",
    "    for link_shop in tqdm(shop_links):\n",
    "        try:\n",
    "            Product_Infos = {}\n",
    "\n",
    "            driver.get(link_shop)\n",
    "\n",
    "            driver.execute_script(\"window.scrollTo(0, document.body.scrollHeight);\")\n",
    "            sleep(0.25)\n",
    "            driver.execute_script(\"window.scrollTo(0, 100);\")\n",
    "            sleep(2.5)\n",
    "\n",
    "            Product_Infos['shop_id'] = link_shop.split('shop/')[1]\n",
    "            Product_Infos['shop_url'] = link_shop\n",
    "\n",
    "            Product_Infos['shop_name'] = driver.find_element(by=By.XPATH, value='//h1[@class=\"section-seller-overview-horizontal__portrait-name\"]').text\n",
    "\n",
    "            # Product_Infos['active_time'] = driver.find_element(by=By.XPATH, value='//div[@class=\"section-seller-overview-horizontal__inactive-indicator\"]').text\n",
    "\n",
    "            if(len(driver.find_elements(by=By.XPATH, value='//div[@class=\"shop-page-shop-description\"]')) != 0):\n",
    "                list_description = ''\n",
    "                Xpath_descriptions = driver.find_elements(by=By.XPATH, value='//div[@class=\"shop-page-shop-description\"]')\n",
    "\n",
    "                for xpath in Xpath_descriptions:\n",
    "                    list_description = list_description + xpath.text\n",
    "\n",
    "                Product_Infos['description'] = list_description\n",
    "\n",
    "            sleep(0.5)\n",
    "\n",
    "            img_shopee_mall = 'https://deo.shopeemobile.com/shopee/shopee-pcmall-live-sg/shopmicrofe/483071c49603aa7163a7f51708bff61b.png'\n",
    "\n",
    "            if(len(driver.find_elements(by=By.XPATH, value='//div[@class=\"official-shop-new-badge\"]/img')) != 0):\n",
    "                for shop_type in driver.find_elements(by=By.XPATH, value='//div[@class=\"official-shop-new-badge\"]/img'):\n",
    "                    if (img_shopee_mall) == (shop_type.get_attribute('src')):\n",
    "                        Product_Infos['type_shop'] = 'shopee_mall'\n",
    "            else:\n",
    "                Product_Infos['type_shop'] = ''\n",
    "\n",
    "            Xpaths_info_basics = driver.find_elements(by=By.XPATH, value='//div[@class=\"section-seller-overview__item-text\"]')\n",
    "\n",
    "            for Xpath in Xpaths_info_basics:\n",
    "                if('Đang Theo:' in Xpath.text):\n",
    "                    Product_Infos['follower'] =  re.findall('\\d+',Xpath.text)[0]\n",
    "                if('Tỉ Lệ Phản Hồi Chat:' in Xpath.text):\n",
    "                    Product_Infos['response_rate'] = re.findall('\\d+',Xpath.text)[0]\n",
    "                if('Tham Gia:' in Xpath.text):\n",
    "                    Product_Infos['joined_time'] = re.findall('\\d+',Xpath.text)[0]\n",
    "                if('Đánh Giá' in Xpath.text):\n",
    "                    if('(' not in  Xpath.text):\n",
    "                        Product_Infos['avg_rating'] = re.findall('\\d+',Xpath.text)[0]\n",
    "                        Product_Infos['total_rating_count'] = re.findall('\\d+',Xpath.text)[0]\n",
    "                    elif('(' in  Xpath.text):\n",
    "                        Product_Infos['avg_rating'] = Xpath.text.split(' (')[0].split(': ')[1]\n",
    "                        Product_Infos['total_rating_count'] = Xpath.text.split(' (')[1].split(' Đánh Giá')[0]\n",
    "                if('Sản Phẩm:' in Xpath.text):\n",
    "                    Product_Infos['num_of_product'] = re.findall('\\d+',Xpath.text)[0]\n",
    "\n",
    "            Product_Infos['platform'] = 'shopee'\n",
    "\n",
    "            try:\n",
    "                Product_Infos['location'] = driver.find_element(by=By.XPATH, value='//div[@class=\"_1IbMik\"]').text\n",
    "            except:\n",
    "                pass\n",
    "\n",
    "            list_product.append(Product_Infos)\n",
    "            sleep(0.5)\n",
    "        except:\n",
    "            continue"
   ]
  },
  {
   "cell_type": "code",
   "execution_count": 20,
   "metadata": {},
   "outputs": [],
   "source": [
    "import threading\n",
    "import numpy as np\n",
    "\n",
    "list_threads = []\n",
    "list_product = []\n",
    "num_thread = 3\n",
    "list_partitions = [partition for partition in np.array_split(shop_links, num_thread)]\n",
    "for partition_list in list_partitions:\n",
    "    list_threads.append(threading.Thread(target=startCrawl, args=(partition_list, list_product)))"
   ]
  },
  {
   "cell_type": "code",
   "execution_count": null,
   "metadata": {},
   "outputs": [],
   "source": [
    "for thread in list_threads:\n",
    "    thread.start()\n",
    "    time.sleep(5)"
   ]
  },
  {
   "cell_type": "code",
   "execution_count": null,
   "metadata": {},
   "outputs": [],
   "source": [
    "for thread in list_threads:\n",
    "    thread.join()"
   ]
  },
  {
   "cell_type": "code",
   "execution_count": null,
   "metadata": {},
   "outputs": [],
   "source": [
    "pd.DataFrame(list_product).sample(3)"
   ]
  },
  {
   "cell_type": "code",
   "execution_count": 24,
   "metadata": {},
   "outputs": [
    {
     "data": {
      "text/plain": [
       "2682"
      ]
     },
     "execution_count": 24,
     "metadata": {},
     "output_type": "execute_result"
    }
   ],
   "source": [
    "len(list_product)"
   ]
  },
  {
   "cell_type": "code",
   "execution_count": null,
   "metadata": {},
   "outputs": [],
   "source": [
    "pd.DataFrame(list_product).to_csv('C:/Users/Admin/OneDrive_Quan/Máy tính/crawl_web_RA/20220822_shopee/Shopee_20220825/shopee_shop_info_full_recrawl.csv', index=False)"
   ]
  }
 ],
 "metadata": {
  "kernelspec": {
   "display_name": "Python 3.10.4 64-bit",
   "language": "python",
   "name": "python3"
  },
  "language_info": {
   "codemirror_mode": {
    "name": "ipython",
    "version": 3
   },
   "file_extension": ".py",
   "mimetype": "text/x-python",
   "name": "python",
   "nbconvert_exporter": "python",
   "pygments_lexer": "ipython3",
   "version": "3.10.4"
  },
  "orig_nbformat": 4,
  "vscode": {
   "interpreter": {
    "hash": "a42ccb73e7d9bfdf27e036f1d2b8b681e55fc0743cc5586bc2474d4a60f4b886"
   }
  }
 },
 "nbformat": 4,
 "nbformat_minor": 2
}
