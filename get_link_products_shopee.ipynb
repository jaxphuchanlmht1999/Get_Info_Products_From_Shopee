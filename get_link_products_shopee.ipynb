{
 "cells": [
  {
   "cell_type": "code",
   "execution_count": 1,
   "metadata": {},
   "outputs": [],
   "source": [
    "import pandas as pd\n",
    "\n",
    "# -- Selenium --\n",
    "from selenium import webdriver\n",
    "from selenium.webdriver.chrome.options import Options\n",
    "import time\n",
    "from time import sleep\n",
    "from selenium.webdriver.common.by import By\n",
    "\n",
    "\n",
    "# -- API --\n",
    "import re\n",
    "import json\n",
    "import requests\n",
    "from tqdm import tqdm\n",
    "\n",
    "# Get today\n",
    "from datetime import date\n",
    "\n",
    "# Check time\n",
    "from tqdm import tqdm"
   ]
  },
  {
   "cell_type": "code",
   "execution_count": null,
   "metadata": {},
   "outputs": [],
   "source": [
    "driver = webdriver.Chrome(executable_path=r\"C:/Users/Admin/OneDrive_Quan/Máy tính/crawl_web_RA/chromedriver/chromedriver\")"
   ]
  },
  {
   "cell_type": "code",
   "execution_count": 5,
   "metadata": {},
   "outputs": [],
   "source": [
    "product_links = []\n",
    "locations = []"
   ]
  },
  {
   "cell_type": "code",
   "execution_count": 6,
   "metadata": {},
   "outputs": [
    {
     "name": "stdout",
     "output_type": "stream",
     "text": [
      "Da lay san pham o trang 0 - checkpoint: 0\n",
      "Da lay san pham o trang 1 - checkpoint: 60\n",
      "Da lay san pham o trang 2 - checkpoint: 120\n",
      "Da lay san pham o trang 3 - checkpoint: 180\n",
      "Da lay san pham o trang 4 - checkpoint: 240\n",
      "Da lay san pham o trang 5 - checkpoint: 300\n",
      "Da lay san pham o trang 6 - checkpoint: 360\n",
      "Da lay san pham o trang 7 - checkpoint: 420\n",
      "Da lay san pham o trang 8 - checkpoint: 480\n",
      "Da lay san pham o trang 9 - checkpoint: 540\n",
      "Da lay san pham o trang 10 - checkpoint: 600\n",
      "Da lay san pham o trang 11 - checkpoint: 660\n",
      "Da lay san pham o trang 12 - checkpoint: 719\n",
      "Da lay san pham o trang 13 - checkpoint: 779\n",
      "Da lay san pham o trang 14 - checkpoint: 839\n",
      "Da lay san pham o trang 15 - checkpoint: 899\n",
      "Da lay san pham o trang 16 - checkpoint: 959\n",
      "Da lay san pham o trang 17 - checkpoint: 1019\n",
      "Da lay san pham o trang 18 - checkpoint: 1078\n",
      "Da lay san pham o trang 19 - checkpoint: 1091\n"
     ]
    }
   ],
   "source": [
    "n = 0\n",
    "check_point_so_luong_san_pham = -20\n",
    "\n",
    "while((len(product_links) - check_point_so_luong_san_pham) > 10):\n",
    "    # update checkpoint\n",
    "    check_point_so_luong_san_pham = len(product_links)\n",
    "\n",
    "\n",
    "    link_keyword = f'https://shopee.vn/search?keyword=m%C3%A1y%20%C4%91%E1%BB%8Dc%20s%C3%A1ch&page={n}'\n",
    "    driver.get(link_keyword)\n",
    "    sleep(1)\n",
    "    \n",
    "    driver.execute_script(\"window.scrollTo(0, document.body.scrollHeight);\")\n",
    "    sleep(1)\n",
    "    driver.execute_script(\"window.scrollTo(0, document.body.scrollHeight);\")\n",
    "    sleep(0.5)\n",
    "    driver.execute_script(\"window.scrollTo(0, document.body.scrollHeight);\")\n",
    "    sleep(0.5)\n",
    "    driver.execute_script(\"window.scrollTo(0, document.body.scrollHeight);\")\n",
    "    sleep(1)\n",
    "    driver.execute_script(\"window.scrollTo(0, document.body.scrollHeight);\")\n",
    "    sleep(2)\n",
    "    \n",
    "    try:\n",
    "        Xpath_links = driver.find_elements(by=By.XPATH, value='//div[@class=\"col-xs-2-4 shopee-search-item-result__item\"]/a')\n",
    "        for Xpath_link in Xpath_links:\n",
    "            product_links.append(Xpath_link.get_attribute('href'))\n",
    "\n",
    "        path_locations = driver.find_elements(by=By.XPATH, value='//div[@class=\"zGGwiV\"]')\n",
    "        for path_location in path_locations:\n",
    "            locations.append(path_location.text)\n",
    "    except:\n",
    "        break\n",
    "\n",
    "    \n",
    "\n",
    "    print('Da lay san pham o trang ' + str(n) + ' - checkpoint: ' + str(check_point_so_luong_san_pham) )\n",
    "    n = n + 1"
   ]
  },
  {
   "cell_type": "code",
   "execution_count": 7,
   "metadata": {},
   "outputs": [],
   "source": [
    "import pandas as pd\n",
    "\n",
    "df_output = pd.DataFrame(list(zip(product_links, locations)),\n",
    "               columns =['product_links', 'locations'])\n",
    "\n",
    "df_output['Date'] = date.today()"
   ]
  },
  {
   "cell_type": "code",
   "execution_count": 8,
   "metadata": {},
   "outputs": [],
   "source": [
    "df_output.to_excel('C:/Users/Admin/OneDrive_Quan/Máy tính/crawl_web_RA/training_shopee/get_link_items.xlsx')"
   ]
  }
 ],
 "metadata": {
  "kernelspec": {
   "display_name": "Python 3.10.4 64-bit",
   "language": "python",
   "name": "python3"
  },
  "language_info": {
   "codemirror_mode": {
    "name": "ipython",
    "version": 3
   },
   "file_extension": ".py",
   "mimetype": "text/x-python",
   "name": "python",
   "nbconvert_exporter": "python",
   "pygments_lexer": "ipython3",
   "version": "3.10.4"
  },
  "orig_nbformat": 4,
  "vscode": {
   "interpreter": {
    "hash": "a42ccb73e7d9bfdf27e036f1d2b8b681e55fc0743cc5586bc2474d4a60f4b886"
   }
  }
 },
 "nbformat": 4,
 "nbformat_minor": 2
}
