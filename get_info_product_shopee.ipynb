{
 "cells": [
  {
   "cell_type": "code",
   "execution_count": 2,
   "metadata": {},
   "outputs": [],
   "source": [
    "import pandas as pd\n",
    "\n",
    "# -- Selenium --\n",
    "from selenium import webdriver\n",
    "from selenium.webdriver.chrome.options import Options\n",
    "import time\n",
    "from time import sleep\n",
    "from selenium.webdriver.common.by import By\n",
    "\n",
    "\n",
    "# -- API --\n",
    "import re\n",
    "import json\n",
    "import requests\n",
    "from tqdm import tqdm\n",
    "\n",
    "# Get today\n",
    "from datetime import date\n",
    "\n",
    "# Check time\n",
    "from tqdm import tqdm"
   ]
  },
  {
   "cell_type": "code",
   "execution_count": 3,
   "metadata": {},
   "outputs": [],
   "source": [
    "data = pd.read_csv('C:/Users/Admin/OneDrive_Quan/Máy tính/crawl_web_RA/20220822_shopee/shopee_20220829/link_shop_shopee_recrawl.csv')"
   ]
  },
  {
   "cell_type": "code",
   "execution_count": 5,
   "metadata": {},
   "outputs": [
    {
     "data": {
      "text/plain": [
       "Index(['shop_url'], dtype='object')"
      ]
     },
     "execution_count": 5,
     "metadata": {},
     "output_type": "execute_result"
    }
   ],
   "source": [
    "data.columns"
   ]
  },
  {
   "cell_type": "code",
   "execution_count": 6,
   "metadata": {},
   "outputs": [
    {
     "name": "stdout",
     "output_type": "stream",
     "text": [
      "2694\n"
     ]
    }
   ],
   "source": [
    "product_links = data.shop_url\n",
    "\n",
    "print(len(product_links))"
   ]
  },
  {
   "cell_type": "code",
   "execution_count": 253,
   "metadata": {},
   "outputs": [],
   "source": [
    "def get_location(driver):\n",
    "    check_xpath_location = driver.find_elements(by=By.XPATH, value='//div[@class=\"OktMMO\"]')\n",
    "    for xpath in check_xpath_location:\n",
    "        if('Gửi từ' in xpath.text):\n",
    "            location = xpath.text.split('\\n')[1]\n",
    "\n",
    "    return location\n",
    "\n",
    "def get_cmt_shop(driver):\n",
    "    cmt_total = ''\n",
    "\n",
    "    xpath_cmt_shop = driver.find_elements(by=By.XPATH, value='//div[@class=\"_2w33Zs\"]')\n",
    "    for xpath in xpath_cmt_shop:\n",
    "        cmt_total = cmt_total + xpath.text\n",
    "\n",
    "    return cmt_total\n",
    "\n",
    "def get_categorys(driver):\n",
    "    xpath_cat = driver.find_elements(by=By.XPATH, value='//a[@class=\"CyVtI7 _2yC5g9\"]')\n",
    "    total_cat = ''\n",
    "    for xpath in xpath_cat:\n",
    "        total_cat = total_cat + xpath.text + ' -> '\n",
    "\n",
    "    return(total_cat[:-4])"
   ]
  },
  {
   "cell_type": "code",
   "execution_count": null,
   "metadata": {},
   "outputs": [],
   "source": [
    "def login_shopee(driver):\n",
    "    url_log_in = 'https://shopee.vn/buyer/login?next=https%3A%2F%2Fshopee.vn%2F'\n",
    "    driver.get(url_log_in)\n",
    "\n",
    "    _username = '_username'\n",
    "    _password = '_password'\n",
    "\n",
    "    username_field = driver.find_element(by=By.NAME, value='loginKey')\n",
    "    username_field.send_keys(_username)\n",
    "\n",
    "    password_field = driver.find_element(by=By.NAME, value='password')\n",
    "    password_field.send_keys(_password)\n",
    "\n",
    "    sleep(0.5)\n",
    "\n",
    "    login_button = driver.find_element(by=By.XPATH, value='//button[@class=\"wyhvVD _1EApiB hq6WM5 L-VL8Q cepDQ1 _7w24N1\"]')\n",
    "    login_button.click()\n",
    "\n",
    "\n",
    "    sleep(3)"
   ]
  },
  {
   "cell_type": "code",
   "execution_count": 255,
   "metadata": {},
   "outputs": [],
   "source": [
    "def startCrawl(product_links, list_product):\n",
    "    driver = webdriver.Chrome(executable_path=r\"C:/Users/Admin/OneDrive_Quan/Máy tính/crawl_web_RA/chromedriver\")\n",
    "\n",
    "    # Login tk shopee\n",
    "    url_log_in = 'https://shopee.vn/buyer/login?next=https%3A%2F%2Fshopee.vn%2F'\n",
    "    driver.get(url_log_in)\n",
    "\n",
    "    _username = '_username'\n",
    "    _password = '_password'\n",
    "\n",
    "    username_field = driver.find_element(by=By.NAME, value='loginKey')\n",
    "    username_field.send_keys(_username)\n",
    "\n",
    "    password_field = driver.find_element(by=By.NAME, value='password')\n",
    "    password_field.send_keys(_password)\n",
    "\n",
    "    sleep(0.5)\n",
    "\n",
    "    login_button = driver.find_element(by=By.XPATH, value='//button[@class=\"wyhvVD _1EApiB hq6WM5 L-VL8Q cepDQ1 _7w24N1\"]')\n",
    "    login_button.click()\n",
    "\n",
    "\n",
    "    sleep(3)\n",
    "    # End\n",
    "\n",
    "    for product_link in product_links:\n",
    "        Product_Infos = {}\n",
    "\n",
    "        driver.get(product_link)\n",
    "        driver.execute_script(\"window.scrollTo(0, document.body.scrollHeight);\")\n",
    "        sleep(0.75)\n",
    "        driver.execute_script(\"window.scrollTo(0, document.body.scrollHeight);\")\n",
    "        sleep(0.25)\n",
    "\n",
    "        if len(driver.find_elements(by=By.NAME, value='loginKey')) != 0:\n",
    "            username_field = driver.find_element(by=By.NAME, value='loginKey')\n",
    "            username_field.send_keys(_username)\n",
    "\n",
    "            password_field = driver.find_element(by=By.NAME, value='password')\n",
    "            password_field.send_keys(_password)\n",
    "\n",
    "            sleep(0.5)\n",
    "\n",
    "            login_button = driver.find_element(by=By.XPATH, value='//button[@class=\"wyhvVD _1EApiB hq6WM5 L-VL8Q cepDQ1 _7w24N1\"]')\n",
    "            login_button.click()\n",
    "\n",
    "            sleep(1)\n",
    "            driver.execute_script(\"window.scrollTo(0, document.body.scrollHeight);\")\n",
    "            sleep(0.25)\n",
    "\n",
    "\n",
    "        driver.execute_script(\"window.scrollTo(0, document.body.scrollHeight);\")\n",
    "        sleep(0.25)\n",
    "        driver.execute_script(\"window.scrollTo(0, document.body.scrollHeight);\")\n",
    "        sleep(2)\n",
    "\n",
    "        try:\n",
    "            product_id, shop_id = product_link.split('?sp_atk')[0].split('i.')[1].split('.')\n",
    "            Product_Infos['ProductIDs'] = product_id\n",
    "            Product_Infos['ShopIDs'] = shop_id\n",
    "        except:\n",
    "            pass\n",
    "        dict_xpath = {\n",
    "                'Solds': '//div[@class=\"HmRxgn\"]',\n",
    "                'Names': '//div[@class=\"_2rQP1z\"]/span',\n",
    "                'LastCrawlSellPrices': '//div[@class=\"_2Shl1j\"]',\n",
    "                'RegularPrices': '//div[@class=\"_2yjfFH\"]',\n",
    "                'RatingScores': '//div[@class=\"_3y5XOB _14izon\"]',\n",
    "                'RatingCounts': '//div[@class=\"_3y5XOB\"]',\n",
    "                'Descriptions': '//p[@class=\"_2jrvqA\"]'\n",
    "        }\n",
    "        for key, value in dict_xpath.items():\n",
    "            try:\n",
    "                Product_Infos[key] = driver.find_element(by=By.XPATH, value=value).text\n",
    "            except:\n",
    "                continue\n",
    "\n",
    "        Product_Infos['ProductLinks'] = product_link\n",
    "        Product_Infos['LastCrawlDates'] = str(date.today())\n",
    "\n",
    "        try:\n",
    "            Product_Infos['ShopReplyComments'] = get_cmt_shop(driver)\n",
    "        except:\n",
    "            pass\n",
    "\n",
    "        try:\n",
    "            Product_Infos['Categorys'] = get_categorys(driver)\n",
    "        except:\n",
    "            pass\n",
    "        try:\n",
    "            Product_Infos['Locations'] = get_location(driver)\n",
    "        except:\n",
    "            pass\n",
    "\n",
    "\n",
    "        list_product.append(Product_Infos)\n",
    "        print(len(list_product))\n",
    "        sleep(0.5)\n",
    "\n"
   ]
  },
  {
   "cell_type": "code",
   "execution_count": 257,
   "metadata": {},
   "outputs": [],
   "source": [
    "import threading\n",
    "import numpy as np\n",
    "\n",
    "list_threads = []\n",
    "list_product = []\n",
    "num_thread = 3\n",
    "list_partitions = [partition for partition in np.array_split(product_links, num_thread)]\n",
    "for partition_list in list_partitions:\n",
    "    list_threads.append(threading.Thread(target=startCrawl, args=(partition_list, list_product)))"
   ]
  },
  {
   "cell_type": "code",
   "execution_count": null,
   "metadata": {},
   "outputs": [],
   "source": [
    "for thread in list_threads:\n",
    "    thread.start()  \n",
    "    time.sleep(5)       "
   ]
  },
  {
   "cell_type": "code",
   "execution_count": null,
   "metadata": {},
   "outputs": [],
   "source": [
    "for thread in list_threads:\n",
    "    thread.join()  \n",
    "       "
   ]
  },
  {
   "cell_type": "code",
   "execution_count": 260,
   "metadata": {},
   "outputs": [
    {
     "data": {
      "text/plain": [
       "7656"
      ]
     },
     "execution_count": 260,
     "metadata": {},
     "output_type": "execute_result"
    }
   ],
   "source": [
    "len(list_product)"
   ]
  },
  {
   "cell_type": "code",
   "execution_count": 262,
   "metadata": {},
   "outputs": [],
   "source": [
    "pd.DataFrame(list_product).to_csv('shopee_product_info.csv', index=False)"
   ]
  }
 ],
 "metadata": {
  "kernelspec": {
   "display_name": "Python 3.10.4 64-bit",
   "language": "python",
   "name": "python3"
  },
  "language_info": {
   "codemirror_mode": {
    "name": "ipython",
    "version": 3
   },
   "file_extension": ".py",
   "mimetype": "text/x-python",
   "name": "python",
   "nbconvert_exporter": "python",
   "pygments_lexer": "ipython3",
   "version": "3.10.4"
  },
  "orig_nbformat": 4,
  "vscode": {
   "interpreter": {
    "hash": "a42ccb73e7d9bfdf27e036f1d2b8b681e55fc0743cc5586bc2474d4a60f4b886"
   }
  }
 },
 "nbformat": 4,
 "nbformat_minor": 2
}
